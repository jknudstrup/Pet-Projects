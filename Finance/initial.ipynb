{
 "cells": [
  {
   "cell_type": "code",
   "execution_count": 209,
   "metadata": {
    "collapsed": false
   },
   "outputs": [],
   "source": [
    "import pandas as pd\n",
    "import numpy as np\n",
    "import matplotlib.pyplot as plt\n",
    "import matplotlib\n",
    "matplotlib.style.use('ggplot')\n",
    "%matplotlib inline\n",
    "import seaborn as sns\n",
    "from datetime import datetime\n",
    "from delorean import Delorean"
   ]
  },
  {
   "cell_type": "code",
   "execution_count": 210,
   "metadata": {
    "collapsed": false
   },
   "outputs": [
    {
     "name": "stdout",
     "output_type": "stream",
     "text": [
      "\u001b[31mEOD.csv\u001b[m\u001b[m*             EOD_filtered         \u001b[31mcolumns_headers.txt\u001b[m\u001b[m*\r\n"
     ]
    }
   ],
   "source": [
    "ls data/ #"
   ]
  },
  {
   "cell_type": "markdown",
   "metadata": {},
   "source": [
    "## Load and format dataframe"
   ]
  },
  {
   "cell_type": "code",
   "execution_count": 211,
   "metadata": {
    "collapsed": true
   },
   "outputs": [],
   "source": [
    "def store_EOD_batch(filename):\n",
    "\n",
    "    # Load the csv downloaded from accessing\n",
    "    # https://www.quandl.com/api/v3/databases/EOD/data?auth_token=XyhQVHcxGCzFqirass27\n",
    "        \n",
    "    batch = pd.read_csv(filename, names=['Ticker', \n",
    "                                         'Date', \n",
    "                                         'Open',\n",
    "                                         'High', \n",
    "                                         'Low', \n",
    "                                         'Close', \n",
    "                                         'Volume', \n",
    "                                         'Dividends', \n",
    "                                         'Splits', \n",
    "                                         'Adjusted Open', \n",
    "                                         'Adjusted High', \n",
    "                                         'Adjusted Low', \n",
    "                                         'Adjusted Close', \n",
    "                                         'Adjusted Volume'], \n",
    "                                  parse_dates=True)\n",
    "\n",
    "    return batch"
   ]
  },
  {
   "cell_type": "code",
   "execution_count": 212,
   "metadata": {
    "collapsed": true
   },
   "outputs": [],
   "source": [
    "df = store_EOD_batch('data/EOD.csv')"
   ]
  },
  {
   "cell_type": "code",
   "execution_count": 213,
   "metadata": {
    "collapsed": false
   },
   "outputs": [
    {
     "name": "stdout",
     "output_type": "stream",
     "text": [
      "<class 'pandas.core.frame.DataFrame'>\n",
      "Int64Index: 24309215 entries, 0 to 24309214\n",
      "Data columns (total 14 columns):\n",
      "Ticker             object\n",
      "Date               object\n",
      "Open               float64\n",
      "High               float64\n",
      "Low                float64\n",
      "Close              float64\n",
      "Volume             float64\n",
      "Dividends          float64\n",
      "Splits             float64\n",
      "Adjusted Open      float64\n",
      "Adjusted High      float64\n",
      "Adjusted Low       float64\n",
      "Adjusted Close     float64\n",
      "Adjusted Volume    float64\n",
      "dtypes: float64(12), object(2)\n",
      "memory usage: 2.7+ GB\n"
     ]
    }
   ],
   "source": [
    "df.info() #"
   ]
  },
  {
   "cell_type": "code",
   "execution_count": 214,
   "metadata": {
    "collapsed": false
   },
   "outputs": [
    {
     "data": {
      "text/plain": [
       "str"
      ]
     },
     "execution_count": 214,
     "metadata": {},
     "output_type": "execute_result"
    }
   ],
   "source": [
    "type(df['Date'])\n",
    "type(df['Date'][0]) #Looks like your dates are coming out as strings"
   ]
  },
  {
   "cell_type": "code",
   "execution_count": 215,
   "metadata": {
    "collapsed": true
   },
   "outputs": [],
   "source": [
    "df['Date'] = pd.to_datetime(df['Date']) #Converting to datetime\n",
    "#Note: This is worth looking at- http://pandas.pydata.org/pandas-docs/stable/timeseries.html"
   ]
  },
  {
   "cell_type": "code",
   "execution_count": 216,
   "metadata": {
    "collapsed": false
   },
   "outputs": [],
   "source": [
    "df['Ticker'] = df['Ticker'].astype('category') #Categories are a more efficient datatype"
   ]
  },
  {
   "cell_type": "code",
   "execution_count": 217,
   "metadata": {
    "collapsed": false
   },
   "outputs": [
    {
     "name": "stdout",
     "output_type": "stream",
     "text": [
      "<class 'pandas.core.frame.DataFrame'>\n",
      "Int64Index: 24309215 entries, 0 to 24309214\n",
      "Data columns (total 14 columns):\n",
      "Ticker             category\n",
      "Date               datetime64[ns]\n",
      "Open               float64\n",
      "High               float64\n",
      "Low                float64\n",
      "Close              float64\n",
      "Volume             float64\n",
      "Dividends          float64\n",
      "Splits             float64\n",
      "Adjusted Open      float64\n",
      "Adjusted High      float64\n",
      "Adjusted Low       float64\n",
      "Adjusted Close     float64\n",
      "Adjusted Volume    float64\n",
      "dtypes: category(1), datetime64[ns](1), float64(12)\n",
      "memory usage: 2.6 GB\n"
     ]
    }
   ],
   "source": [
    "df.info() #Note changed Ticker and Date columns"
   ]
  },
  {
   "cell_type": "code",
   "execution_count": 218,
   "metadata": {
    "collapsed": false
   },
   "outputs": [
    {
     "data": {
      "text/html": [
       "<div style=\"max-height:1000px;max-width:1500px;overflow:auto;\">\n",
       "<table border=\"1\" class=\"dataframe\">\n",
       "  <thead>\n",
       "    <tr style=\"text-align: right;\">\n",
       "      <th></th>\n",
       "      <th>Ticker</th>\n",
       "      <th>Date</th>\n",
       "      <th>Open</th>\n",
       "      <th>High</th>\n",
       "      <th>Low</th>\n",
       "      <th>Close</th>\n",
       "      <th>Volume</th>\n",
       "      <th>Dividends</th>\n",
       "      <th>Splits</th>\n",
       "      <th>Adjusted Open</th>\n",
       "      <th>Adjusted High</th>\n",
       "      <th>Adjusted Low</th>\n",
       "      <th>Adjusted Close</th>\n",
       "      <th>Adjusted Volume</th>\n",
       "    </tr>\n",
       "  </thead>\n",
       "  <tbody>\n",
       "    <tr>\n",
       "      <th>0</th>\n",
       "      <td> A</td>\n",
       "      <td>1999-11-18</td>\n",
       "      <td> 45.50</td>\n",
       "      <td> 50.00</td>\n",
       "      <td> 40.00</td>\n",
       "      <td> 44.00</td>\n",
       "      <td> 44739900</td>\n",
       "      <td> 0</td>\n",
       "      <td> 1</td>\n",
       "      <td> 29.928206</td>\n",
       "      <td> 32.888139</td>\n",
       "      <td> 26.310511</td>\n",
       "      <td> 28.941562</td>\n",
       "      <td> 44739900</td>\n",
       "    </tr>\n",
       "    <tr>\n",
       "      <th>1</th>\n",
       "      <td> A</td>\n",
       "      <td>1999-11-19</td>\n",
       "      <td> 42.94</td>\n",
       "      <td> 43.00</td>\n",
       "      <td> 39.81</td>\n",
       "      <td> 40.38</td>\n",
       "      <td> 10897100</td>\n",
       "      <td> 0</td>\n",
       "      <td> 1</td>\n",
       "      <td> 28.243481</td>\n",
       "      <td> 28.282945</td>\n",
       "      <td> 26.184745</td>\n",
       "      <td> 26.559659</td>\n",
       "      <td> 10897100</td>\n",
       "    </tr>\n",
       "    <tr>\n",
       "      <th>2</th>\n",
       "      <td> A</td>\n",
       "      <td>1999-11-22</td>\n",
       "      <td> 41.31</td>\n",
       "      <td> 44.00</td>\n",
       "      <td> 40.06</td>\n",
       "      <td> 44.00</td>\n",
       "      <td>  4705200</td>\n",
       "      <td> 0</td>\n",
       "      <td> 1</td>\n",
       "      <td> 27.172180</td>\n",
       "      <td> 28.941562</td>\n",
       "      <td> 26.349977</td>\n",
       "      <td> 28.941562</td>\n",
       "      <td>  4705200</td>\n",
       "    </tr>\n",
       "    <tr>\n",
       "      <th>3</th>\n",
       "      <td> A</td>\n",
       "      <td>1999-11-23</td>\n",
       "      <td> 42.50</td>\n",
       "      <td> 43.63</td>\n",
       "      <td> 40.25</td>\n",
       "      <td> 40.25</td>\n",
       "      <td>  4274400</td>\n",
       "      <td> 0</td>\n",
       "      <td> 1</td>\n",
       "      <td> 27.960462</td>\n",
       "      <td> 28.703881</td>\n",
       "      <td> 26.480202</td>\n",
       "      <td> 26.480202</td>\n",
       "      <td>  4274400</td>\n",
       "    </tr>\n",
       "    <tr>\n",
       "      <th>4</th>\n",
       "      <td> A</td>\n",
       "      <td>1999-11-24</td>\n",
       "      <td> 40.13</td>\n",
       "      <td> 41.94</td>\n",
       "      <td> 40.00</td>\n",
       "      <td> 41.06</td>\n",
       "      <td>  3464400</td>\n",
       "      <td> 0</td>\n",
       "      <td> 1</td>\n",
       "      <td> 26.399839</td>\n",
       "      <td> 27.590561</td>\n",
       "      <td> 26.314317</td>\n",
       "      <td> 27.011646</td>\n",
       "      <td>  3464400</td>\n",
       "    </tr>\n",
       "  </tbody>\n",
       "</table>\n",
       "</div>"
      ],
      "text/plain": [
       "  Ticker       Date   Open   High    Low  Close    Volume  Dividends  Splits  \\\n",
       "0      A 1999-11-18  45.50  50.00  40.00  44.00  44739900          0       1   \n",
       "1      A 1999-11-19  42.94  43.00  39.81  40.38  10897100          0       1   \n",
       "2      A 1999-11-22  41.31  44.00  40.06  44.00   4705200          0       1   \n",
       "3      A 1999-11-23  42.50  43.63  40.25  40.25   4274400          0       1   \n",
       "4      A 1999-11-24  40.13  41.94  40.00  41.06   3464400          0       1   \n",
       "\n",
       "   Adjusted Open  Adjusted High  Adjusted Low  Adjusted Close  Adjusted Volume  \n",
       "0      29.928206      32.888139     26.310511       28.941562         44739900  \n",
       "1      28.243481      28.282945     26.184745       26.559659         10897100  \n",
       "2      27.172180      28.941562     26.349977       28.941562          4705200  \n",
       "3      27.960462      28.703881     26.480202       26.480202          4274400  \n",
       "4      26.399839      27.590561     26.314317       27.011646          3464400  "
      ]
     },
     "execution_count": 218,
     "metadata": {},
     "output_type": "execute_result"
    }
   ],
   "source": [
    "df.head() #"
   ]
  },
  {
   "cell_type": "code",
   "execution_count": 219,
   "metadata": {
    "collapsed": false
   },
   "outputs": [
    {
     "data": {
      "text/plain": [
       "(24309215, 14)"
      ]
     },
     "execution_count": 219,
     "metadata": {},
     "output_type": "execute_result"
    }
   ],
   "source": [
    "df.shape #"
   ]
  },
  {
   "cell_type": "code",
   "execution_count": 220,
   "metadata": {
    "collapsed": false
   },
   "outputs": [
    {
     "data": {
      "text/html": [
       "<div style=\"max-height:1000px;max-width:1500px;overflow:auto;\">\n",
       "<table border=\"1\" class=\"dataframe\">\n",
       "  <thead>\n",
       "    <tr style=\"text-align: right;\">\n",
       "      <th></th>\n",
       "      <th>Open</th>\n",
       "      <th>High</th>\n",
       "      <th>Low</th>\n",
       "      <th>Close</th>\n",
       "      <th>Volume</th>\n",
       "      <th>Dividends</th>\n",
       "      <th>Splits</th>\n",
       "      <th>Adjusted Open</th>\n",
       "      <th>Adjusted High</th>\n",
       "      <th>Adjusted Low</th>\n",
       "      <th>Adjusted Close</th>\n",
       "      <th>Adjusted Volume</th>\n",
       "    </tr>\n",
       "  </thead>\n",
       "  <tbody>\n",
       "    <tr>\n",
       "      <th>count</th>\n",
       "      <td> 24304284.000000</td>\n",
       "      <td> 2.430749e+07</td>\n",
       "      <td> 24307472.000000</td>\n",
       "      <td> 24309215.000000</td>\n",
       "      <td> 2.430770e+07</td>\n",
       "      <td> 24309215.000000</td>\n",
       "      <td> 24309215.000000</td>\n",
       "      <td> 2.430428e+07</td>\n",
       "      <td> 2.430749e+07</td>\n",
       "      <td> 2.430747e+07</td>\n",
       "      <td> 2.430922e+07</td>\n",
       "      <td> 2.430770e+07</td>\n",
       "    </tr>\n",
       "    <tr>\n",
       "      <th>mean</th>\n",
       "      <td>       48.529812</td>\n",
       "      <td> 1.203196e+02</td>\n",
       "      <td>       48.018308</td>\n",
       "      <td>       48.514966</td>\n",
       "      <td> 8.629172e+05</td>\n",
       "      <td>        0.005307</td>\n",
       "      <td>        1.000137</td>\n",
       "      <td> 1.135979e+05</td>\n",
       "      <td> 1.265823e+05</td>\n",
       "      <td> 9.978885e+04</td>\n",
       "      <td> 1.098725e+05</td>\n",
       "      <td> 1.000794e+06</td>\n",
       "    </tr>\n",
       "    <tr>\n",
       "      <th>std</th>\n",
       "      <td>     1545.430676</td>\n",
       "      <td> 2.228532e+05</td>\n",
       "      <td>     1533.497113</td>\n",
       "      <td>     1544.535929</td>\n",
       "      <td> 7.511551e+06</td>\n",
       "      <td>       16.789471</td>\n",
       "      <td>        0.020752</td>\n",
       "      <td> 6.607799e+07</td>\n",
       "      <td> 1.032253e+08</td>\n",
       "      <td> 4.406455e+07</td>\n",
       "      <td> 6.284033e+07</td>\n",
       "      <td> 6.004449e+06</td>\n",
       "    </tr>\n",
       "    <tr>\n",
       "      <th>min</th>\n",
       "      <td>        0.000000</td>\n",
       "      <td> 0.000000e+00</td>\n",
       "      <td>        0.000000</td>\n",
       "      <td>        0.000000</td>\n",
       "      <td> 0.000000e+00</td>\n",
       "      <td>        0.000000</td>\n",
       "      <td>        0.001667</td>\n",
       "      <td> 0.000000e+00</td>\n",
       "      <td> 0.000000e+00</td>\n",
       "      <td> 0.000000e+00</td>\n",
       "      <td> 0.000000e+00</td>\n",
       "      <td> 0.000000e+00</td>\n",
       "    </tr>\n",
       "    <tr>\n",
       "      <th>25%</th>\n",
       "      <td>        9.250000</td>\n",
       "      <td> 9.380000e+00</td>\n",
       "      <td>        9.060000</td>\n",
       "      <td>        9.240000</td>\n",
       "      <td> 1.120000e+04</td>\n",
       "      <td>        0.000000</td>\n",
       "      <td>        1.000000</td>\n",
       "      <td> 5.300000e+00</td>\n",
       "      <td> 5.393217e+00</td>\n",
       "      <td> 5.205000e+00</td>\n",
       "      <td> 5.300000e+00</td>\n",
       "      <td> 1.115700e+04</td>\n",
       "    </tr>\n",
       "    <tr>\n",
       "      <th>50%</th>\n",
       "      <td>       18.885000</td>\n",
       "      <td> 1.912000e+01</td>\n",
       "      <td>       18.620000</td>\n",
       "      <td>       18.880000</td>\n",
       "      <td> 7.150000e+04</td>\n",
       "      <td>        0.000000</td>\n",
       "      <td>        1.000000</td>\n",
       "      <td> 1.208582e+01</td>\n",
       "      <td> 1.226000e+01</td>\n",
       "      <td> 1.190403e+01</td>\n",
       "      <td> 1.208405e+01</td>\n",
       "      <td> 7.957900e+04</td>\n",
       "    </tr>\n",
       "    <tr>\n",
       "      <th>75%</th>\n",
       "      <td>       34.480000</td>\n",
       "      <td> 3.488000e+01</td>\n",
       "      <td>       34.000000</td>\n",
       "      <td>       34.480000</td>\n",
       "      <td> 3.620000e+05</td>\n",
       "      <td>        0.000000</td>\n",
       "      <td>        1.000000</td>\n",
       "      <td> 2.540000e+01</td>\n",
       "      <td> 2.568609e+01</td>\n",
       "      <td> 2.510060e+01</td>\n",
       "      <td> 2.540000e+01</td>\n",
       "      <td> 4.495000e+05</td>\n",
       "    </tr>\n",
       "    <tr>\n",
       "      <th>max</th>\n",
       "      <td>   228180.000000</td>\n",
       "      <td> 7.922000e+08</td>\n",
       "      <td>   227530.310000</td>\n",
       "      <td>   229300.000000</td>\n",
       "      <td> 6.674913e+09</td>\n",
       "      <td>    82776.000000</td>\n",
       "      <td>       50.000000</td>\n",
       "      <td> 2.092500e+11</td>\n",
       "      <td> 4.050000e+11</td>\n",
       "      <td> 1.012500e+11</td>\n",
       "      <td> 2.092500e+11</td>\n",
       "      <td> 2.304019e+09</td>\n",
       "    </tr>\n",
       "  </tbody>\n",
       "</table>\n",
       "</div>"
      ],
      "text/plain": [
       "                  Open          High              Low            Close  \\\n",
       "count  24304284.000000  2.430749e+07  24307472.000000  24309215.000000   \n",
       "mean         48.529812  1.203196e+02        48.018308        48.514966   \n",
       "std        1545.430676  2.228532e+05      1533.497113      1544.535929   \n",
       "min           0.000000  0.000000e+00         0.000000         0.000000   \n",
       "25%           9.250000  9.380000e+00         9.060000         9.240000   \n",
       "50%          18.885000  1.912000e+01        18.620000        18.880000   \n",
       "75%          34.480000  3.488000e+01        34.000000        34.480000   \n",
       "max      228180.000000  7.922000e+08    227530.310000    229300.000000   \n",
       "\n",
       "             Volume        Dividends           Splits  Adjusted Open  \\\n",
       "count  2.430770e+07  24309215.000000  24309215.000000   2.430428e+07   \n",
       "mean   8.629172e+05         0.005307         1.000137   1.135979e+05   \n",
       "std    7.511551e+06        16.789471         0.020752   6.607799e+07   \n",
       "min    0.000000e+00         0.000000         0.001667   0.000000e+00   \n",
       "25%    1.120000e+04         0.000000         1.000000   5.300000e+00   \n",
       "50%    7.150000e+04         0.000000         1.000000   1.208582e+01   \n",
       "75%    3.620000e+05         0.000000         1.000000   2.540000e+01   \n",
       "max    6.674913e+09     82776.000000        50.000000   2.092500e+11   \n",
       "\n",
       "       Adjusted High  Adjusted Low  Adjusted Close  Adjusted Volume  \n",
       "count   2.430749e+07  2.430747e+07    2.430922e+07     2.430770e+07  \n",
       "mean    1.265823e+05  9.978885e+04    1.098725e+05     1.000794e+06  \n",
       "std     1.032253e+08  4.406455e+07    6.284033e+07     6.004449e+06  \n",
       "min     0.000000e+00  0.000000e+00    0.000000e+00     0.000000e+00  \n",
       "25%     5.393217e+00  5.205000e+00    5.300000e+00     1.115700e+04  \n",
       "50%     1.226000e+01  1.190403e+01    1.208405e+01     7.957900e+04  \n",
       "75%     2.568609e+01  2.510060e+01    2.540000e+01     4.495000e+05  \n",
       "max     4.050000e+11  1.012500e+11    2.092500e+11     2.304019e+09  "
      ]
     },
     "execution_count": 220,
     "metadata": {},
     "output_type": "execute_result"
    }
   ],
   "source": [
    "df.describe() #Not super informative, in aggregate"
   ]
  },
  {
   "cell_type": "markdown",
   "metadata": {},
   "source": [
    "### Column 'Ticker'\n"
   ]
  },
  {
   "cell_type": "code",
   "execution_count": 221,
   "metadata": {
    "collapsed": false
   },
   "outputs": [
    {
     "data": {
      "text/plain": [
       "count     24309215\n",
       "unique        8936\n",
       "top            IBM\n",
       "freq         13488\n",
       "Name: Ticker, dtype: object"
      ]
     },
     "execution_count": 221,
     "metadata": {},
     "output_type": "execute_result"
    }
   ],
   "source": [
    "df['Ticker'].describe() #Turns out there are 8936 companies"
   ]
  },
  {
   "cell_type": "code",
   "execution_count": 222,
   "metadata": {
    "collapsed": false
   },
   "outputs": [
    {
     "data": {
      "text/plain": [
       "IBM    13488\n",
       "DIS    13488\n",
       "CAT    13488\n",
       "GE     13488\n",
       "KO     13488\n",
       "DD     13487\n",
       "BA     13487\n",
       "AA     13487\n",
       "HPQ    13487\n",
       "FL     11502\n",
       "GT     11501\n",
       "DTE    11501\n",
       "MRK    11501\n",
       "MO     11501\n",
       "PG     11501\n",
       "...\n",
       "CBX           1\n",
       "GPIAW         1\n",
       "HEWW          1\n",
       "EACQU         1\n",
       "IFAN          1\n",
       "FVI           1\n",
       "CTZ_P_A_CL    1\n",
       "PRSNW         1\n",
       "BTX_WS_W      1\n",
       "QRMLF         1\n",
       "TGNA_W        1\n",
       "HACW          1\n",
       "GPACU         1\n",
       "EMBH          1\n",
       "JBJ_CL        1\n",
       "Length: 8936, dtype: int64"
      ]
     },
     "execution_count": 222,
     "metadata": {},
     "output_type": "execute_result"
    }
   ],
   "source": [
    "df['Ticker'].value_counts() #Most and least-represented companies"
   ]
  },
  {
   "cell_type": "code",
   "execution_count": 223,
   "metadata": {
    "collapsed": false
   },
   "outputs": [
    {
     "data": {
      "text/plain": [
       "<matplotlib.axes._subplots.AxesSubplot at 0x19b43ea50>"
      ]
     },
     "execution_count": 223,
     "metadata": {},
     "output_type": "execute_result"
    },
    {
     "data": {
      "image/png": "[encoded data removed]",
      "text/plain": [
       "<matplotlib.figure.Figure at 0x19b429cd0>"
      ]
     },
     "metadata": {},
     "output_type": "display_data"
    }
   ],
   "source": [
    "sns.set(rc={\"figure.figsize\": (16, 6)})\n",
    "sns.distplot(df['Ticker'].value_counts(), axlabel=\"Number of Rows\") #Distribution of company data\n",
    "#Looks like there are a lot of companies with little data.\n",
    "#They can probably be filtered out."
   ]
  },
  {
   "cell_type": "code",
   "execution_count": 224,
   "metadata": {
    "collapsed": false
   },
   "outputs": [
    {
     "data": {
      "text/plain": [
       "<matplotlib.axes._subplots.AxesSubplot at 0x19aafeb90>"
      ]
     },
     "execution_count": 224,
     "metadata": {},
     "output_type": "execute_result"
    },
    {
     "data": {
      "image/png": "[encoded data removed]",
      "text/plain": [
       "<matplotlib.figure.Figure at 0x1990d0f90>"
      ]
     },
     "metadata": {},
     "output_type": "display_data"
    }
   ],
   "source": [
    "#High pass filter so we can get a better look:\n",
    "sns.set(rc={\"figure.figsize\": (18, 6)})\n",
    "ticker_mask = df['Ticker'].value_counts() <= 10000\n",
    "ticker_counts = df['Ticker'].value_counts()[ticker_mask]\n",
    "sns.distplot(ticker_counts, axlabel=\"Number of Rows\")"
   ]
  },
  {
   "cell_type": "code",
   "execution_count": 225,
   "metadata": {
    "collapsed": false
   },
   "outputs": [
    {
     "data": {
      "text/plain": [
       "Timestamp('1962-01-02 00:00:00')"
      ]
     },
     "execution_count": 225,
     "metadata": {},
     "output_type": "execute_result"
    }
   ],
   "source": [
    "min(df['Date']) #Earliest stock is in 1962, apparently"
   ]
  },
  {
   "cell_type": "markdown",
   "metadata": {},
   "source": [
    "## Filtering out unwanted data"
   ]
  },
  {
   "cell_type": "code",
   "execution_count": 226,
   "metadata": {
    "collapsed": true
   },
   "outputs": [],
   "source": [
    "# Restricting to stocks since 2000\n",
    "df = df[df['Date'] > datetime(2000, 1, 1)]"
   ]
  },
  {
   "cell_type": "code",
   "execution_count": 227,
   "metadata": {
    "collapsed": false
   },
   "outputs": [
    {
     "data": {
      "text/plain": [
       "(18988946, 14)"
      ]
     },
     "execution_count": 227,
     "metadata": {},
     "output_type": "execute_result"
    }
   ],
   "source": [
    "df.shape"
   ]
  },
  {
   "cell_type": "code",
   "execution_count": 228,
   "metadata": {
    "collapsed": false
   },
   "outputs": [
    {
     "data": {
      "text/plain": [
       "5320269"
      ]
     },
     "execution_count": 228,
     "metadata": {},
     "output_type": "execute_result"
    }
   ],
   "source": [
    "24309215 - df.shape[0] #Looks like we shaved off only about 5.3 million rows"
   ]
  },
  {
   "cell_type": "code",
   "execution_count": 229,
   "metadata": {
    "collapsed": false
   },
   "outputs": [
    {
     "data": {
      "text/html": [
       "<div style=\"max-height:1000px;max-width:1500px;overflow:auto;\">\n",
       "<table border=\"1\" class=\"dataframe\">\n",
       "  <thead>\n",
       "    <tr style=\"text-align: right;\">\n",
       "      <th></th>\n",
       "      <th>Ticker</th>\n",
       "      <th>Date</th>\n",
       "      <th>Open</th>\n",
       "      <th>High</th>\n",
       "      <th>Low</th>\n",
       "      <th>Close</th>\n",
       "      <th>Volume</th>\n",
       "      <th>Dividends</th>\n",
       "      <th>Splits</th>\n",
       "      <th>Adjusted Open</th>\n",
       "      <th>Adjusted High</th>\n",
       "      <th>Adjusted Low</th>\n",
       "      <th>Adjusted Close</th>\n",
       "      <th>Adjusted Volume</th>\n",
       "    </tr>\n",
       "  </thead>\n",
       "  <tbody>\n",
       "    <tr>\n",
       "      <th>30</th>\n",
       "      <td> A</td>\n",
       "      <td>2000-01-03</td>\n",
       "      <td> 78.75</td>\n",
       "      <td> 78.94</td>\n",
       "      <td> 67.38</td>\n",
       "      <td> 72.00</td>\n",
       "      <td> 3343600</td>\n",
       "      <td> 0</td>\n",
       "      <td> 1</td>\n",
       "      <td> 51.805952</td>\n",
       "      <td> 51.930944</td>\n",
       "      <td> 44.326160</td>\n",
       "      <td> 47.365442</td>\n",
       "      <td> 3343600</td>\n",
       "    </tr>\n",
       "    <tr>\n",
       "      <th>31</th>\n",
       "      <td> A</td>\n",
       "      <td>2000-01-04</td>\n",
       "      <td> 68.13</td>\n",
       "      <td> 68.88</td>\n",
       "      <td> 64.75</td>\n",
       "      <td> 66.50</td>\n",
       "      <td> 3408500</td>\n",
       "      <td> 0</td>\n",
       "      <td> 1</td>\n",
       "      <td> 44.814547</td>\n",
       "      <td> 45.307882</td>\n",
       "      <td> 42.591251</td>\n",
       "      <td> 43.742366</td>\n",
       "      <td> 3408500</td>\n",
       "    </tr>\n",
       "    <tr>\n",
       "      <th>32</th>\n",
       "      <td> A</td>\n",
       "      <td>2000-01-05</td>\n",
       "      <td> 66.25</td>\n",
       "      <td> 66.31</td>\n",
       "      <td> 61.31</td>\n",
       "      <td> 61.56</td>\n",
       "      <td> 4119200</td>\n",
       "      <td> 0</td>\n",
       "      <td> 1</td>\n",
       "      <td> 43.575932</td>\n",
       "      <td> 43.615397</td>\n",
       "      <td> 40.326647</td>\n",
       "      <td> 40.491085</td>\n",
       "      <td> 4119200</td>\n",
       "    </tr>\n",
       "    <tr>\n",
       "      <th>33</th>\n",
       "      <td> A</td>\n",
       "      <td>2000-01-06</td>\n",
       "      <td> 61.63</td>\n",
       "      <td> 62.00</td>\n",
       "      <td> 58.13</td>\n",
       "      <td> 60.00</td>\n",
       "      <td> 1812900</td>\n",
       "      <td> 0</td>\n",
       "      <td> 1</td>\n",
       "      <td> 40.538590</td>\n",
       "      <td> 40.781966</td>\n",
       "      <td> 38.236382</td>\n",
       "      <td> 39.466419</td>\n",
       "      <td> 1812900</td>\n",
       "    </tr>\n",
       "    <tr>\n",
       "      <th>34</th>\n",
       "      <td> A</td>\n",
       "      <td>2000-01-07</td>\n",
       "      <td> 59.06</td>\n",
       "      <td> 65.94</td>\n",
       "      <td> 59.00</td>\n",
       "      <td> 65.00</td>\n",
       "      <td> 2016900</td>\n",
       "      <td> 0</td>\n",
       "      <td> 1</td>\n",
       "      <td> 38.851914</td>\n",
       "      <td> 43.377840</td>\n",
       "      <td> 38.812444</td>\n",
       "      <td> 42.759472</td>\n",
       "      <td> 2016900</td>\n",
       "    </tr>\n",
       "  </tbody>\n",
       "</table>\n",
       "</div>"
      ],
      "text/plain": [
       "   Ticker       Date   Open   High    Low  Close   Volume  Dividends  Splits  \\\n",
       "30      A 2000-01-03  78.75  78.94  67.38  72.00  3343600          0       1   \n",
       "31      A 2000-01-04  68.13  68.88  64.75  66.50  3408500          0       1   \n",
       "32      A 2000-01-05  66.25  66.31  61.31  61.56  4119200          0       1   \n",
       "33      A 2000-01-06  61.63  62.00  58.13  60.00  1812900          0       1   \n",
       "34      A 2000-01-07  59.06  65.94  59.00  65.00  2016900          0       1   \n",
       "\n",
       "    Adjusted Open  Adjusted High  Adjusted Low  Adjusted Close  \\\n",
       "30      51.805952      51.930944     44.326160       47.365442   \n",
       "31      44.814547      45.307882     42.591251       43.742366   \n",
       "32      43.575932      43.615397     40.326647       40.491085   \n",
       "33      40.538590      40.781966     38.236382       39.466419   \n",
       "34      38.851914      43.377840     38.812444       42.759472   \n",
       "\n",
       "    Adjusted Volume  \n",
       "30          3343600  \n",
       "31          3408500  \n",
       "32          4119200  \n",
       "33          1812900  \n",
       "34          2016900  "
      ]
     },
     "execution_count": 229,
     "metadata": {},
     "output_type": "execute_result"
    }
   ],
   "source": [
    "df.head()"
   ]
  },
  {
   "cell_type": "code",
   "execution_count": 230,
   "metadata": {
    "collapsed": false
   },
   "outputs": [
    {
     "data": {
      "text/html": [
       "<div style=\"max-height:1000px;max-width:1500px;overflow:auto;\">\n",
       "<table border=\"1\" class=\"dataframe\">\n",
       "  <thead>\n",
       "    <tr style=\"text-align: right;\">\n",
       "      <th></th>\n",
       "      <th>Ticker</th>\n",
       "      <th>Date</th>\n",
       "      <th>Open</th>\n",
       "      <th>High</th>\n",
       "      <th>Low</th>\n",
       "      <th>Close</th>\n",
       "      <th>Volume</th>\n",
       "      <th>Dividends</th>\n",
       "      <th>Splits</th>\n",
       "      <th>Adjusted Open</th>\n",
       "      <th>Adjusted High</th>\n",
       "      <th>Adjusted Low</th>\n",
       "      <th>Adjusted Close</th>\n",
       "      <th>Adjusted Volume</th>\n",
       "    </tr>\n",
       "  </thead>\n",
       "  <tbody>\n",
       "    <tr>\n",
       "      <th>24309210</th>\n",
       "      <td> ZXYZ_A</td>\n",
       "      <td>2015-03-17</td>\n",
       "      <td>  10.0</td>\n",
       "      <td>  10.00</td>\n",
       "      <td>  10.0</td>\n",
       "      <td>  10.0</td>\n",
       "      <td>  200</td>\n",
       "      <td> 0</td>\n",
       "      <td> 1</td>\n",
       "      <td>  10.0</td>\n",
       "      <td>  10.00</td>\n",
       "      <td>  10.0</td>\n",
       "      <td>  10.0</td>\n",
       "      <td>  200</td>\n",
       "    </tr>\n",
       "    <tr>\n",
       "      <th>24309211</th>\n",
       "      <td> ZXYZ_A</td>\n",
       "      <td>2015-03-20</td>\n",
       "      <td>  10.0</td>\n",
       "      <td>  10.00</td>\n",
       "      <td>  10.0</td>\n",
       "      <td>  10.0</td>\n",
       "      <td>  100</td>\n",
       "      <td> 0</td>\n",
       "      <td> 1</td>\n",
       "      <td>  10.0</td>\n",
       "      <td>  10.00</td>\n",
       "      <td>  10.0</td>\n",
       "      <td>  10.0</td>\n",
       "      <td>  100</td>\n",
       "    </tr>\n",
       "    <tr>\n",
       "      <th>24309212</th>\n",
       "      <td>    ZZK</td>\n",
       "      <td>2015-07-16</td>\n",
       "      <td> 100.0</td>\n",
       "      <td> 100.00</td>\n",
       "      <td> 100.0</td>\n",
       "      <td> 100.0</td>\n",
       "      <td>    0</td>\n",
       "      <td> 0</td>\n",
       "      <td> 1</td>\n",
       "      <td> 100.0</td>\n",
       "      <td> 100.00</td>\n",
       "      <td> 100.0</td>\n",
       "      <td> 100.0</td>\n",
       "      <td>    0</td>\n",
       "    </tr>\n",
       "    <tr>\n",
       "      <th>24309213</th>\n",
       "      <td>    ZZZ</td>\n",
       "      <td>2015-07-16</td>\n",
       "      <td>   0.5</td>\n",
       "      <td>   0.50</td>\n",
       "      <td>   0.5</td>\n",
       "      <td>   0.5</td>\n",
       "      <td>    0</td>\n",
       "      <td> 0</td>\n",
       "      <td> 1</td>\n",
       "      <td>   0.5</td>\n",
       "      <td>   0.50</td>\n",
       "      <td>   0.5</td>\n",
       "      <td>   0.5</td>\n",
       "      <td>    0</td>\n",
       "    </tr>\n",
       "    <tr>\n",
       "      <th>24309214</th>\n",
       "      <td>    ZZZ</td>\n",
       "      <td>2015-07-17</td>\n",
       "      <td>   1.0</td>\n",
       "      <td>   1.01</td>\n",
       "      <td>   1.0</td>\n",
       "      <td>   1.0</td>\n",
       "      <td> 1000</td>\n",
       "      <td> 0</td>\n",
       "      <td> 1</td>\n",
       "      <td>   1.0</td>\n",
       "      <td>   1.01</td>\n",
       "      <td>   1.0</td>\n",
       "      <td>   1.0</td>\n",
       "      <td> 1000</td>\n",
       "    </tr>\n",
       "  </tbody>\n",
       "</table>\n",
       "</div>"
      ],
      "text/plain": [
       "          Ticker       Date   Open    High    Low  Close  Volume  Dividends  \\\n",
       "24309210  ZXYZ_A 2015-03-17   10.0   10.00   10.0   10.0     200          0   \n",
       "24309211  ZXYZ_A 2015-03-20   10.0   10.00   10.0   10.0     100          0   \n",
       "24309212     ZZK 2015-07-16  100.0  100.00  100.0  100.0       0          0   \n",
       "24309213     ZZZ 2015-07-16    0.5    0.50    0.5    0.5       0          0   \n",
       "24309214     ZZZ 2015-07-17    1.0    1.01    1.0    1.0    1000          0   \n",
       "\n",
       "          Splits  Adjusted Open  Adjusted High  Adjusted Low  Adjusted Close  \\\n",
       "24309210       1           10.0          10.00          10.0            10.0   \n",
       "24309211       1           10.0          10.00          10.0            10.0   \n",
       "24309212       1          100.0         100.00         100.0           100.0   \n",
       "24309213       1            0.5           0.50           0.5             0.5   \n",
       "24309214       1            1.0           1.01           1.0             1.0   \n",
       "\n",
       "          Adjusted Volume  \n",
       "24309210              200  \n",
       "24309211              100  \n",
       "24309212                0  \n",
       "24309213                0  \n",
       "24309214             1000  "
      ]
     },
     "execution_count": 230,
     "metadata": {},
     "output_type": "execute_result"
    }
   ],
   "source": [
    "df.tail()"
   ]
  },
  {
   "cell_type": "code",
   "execution_count": 231,
   "metadata": {
    "collapsed": false
   },
   "outputs": [
    {
     "data": {
      "text/plain": [
       "VBF     False\n",
       "FL      False\n",
       "NTAP    False\n",
       "FCH     False\n",
       "MMC     False\n",
       "EVF     False\n",
       "LOAN    False\n",
       "WOR     False\n",
       "AP      False\n",
       "INTU    False\n",
       "CVS     False\n",
       "PULB    False\n",
       "FLIC    False\n",
       "DCI     False\n",
       "RE      False\n",
       "...\n",
       "CBX           True\n",
       "GPIAW         True\n",
       "HEWW          True\n",
       "EACQU         True\n",
       "IFAN          True\n",
       "FVI           True\n",
       "CTZ_P_A_CL    True\n",
       "PRSNW         True\n",
       "BTX_WS_W      True\n",
       "QRMLF         True\n",
       "TGNA_W        True\n",
       "HACW          True\n",
       "GPACU         True\n",
       "EMBH          True\n",
       "JBJ_CL        True\n",
       "Length: 8936, dtype: bool"
      ]
     },
     "execution_count": 231,
     "metadata": {},
     "output_type": "execute_result"
    }
   ],
   "source": [
    "df['Ticker'].value_counts() < 100"
   ]
  },
  {
   "cell_type": "code",
   "execution_count": 232,
   "metadata": {
    "collapsed": false
   },
   "outputs": [
    {
     "data": {
      "text/plain": [
       "544"
      ]
     },
     "execution_count": 232,
     "metadata": {},
     "output_type": "execute_result"
    }
   ],
   "source": [
    "sum(df['Ticker'].value_counts() < 100) #"
   ]
  },
  {
   "cell_type": "code",
   "execution_count": 233,
   "metadata": {
    "collapsed": false
   },
   "outputs": [
    {
     "data": {
      "text/plain": [
       "count    8936.000000\n",
       "mean     2124.993957\n",
       "std      1516.269911\n",
       "min         1.000000\n",
       "25%       545.000000\n",
       "50%      2079.000000\n",
       "75%      3918.000000\n",
       "max      3920.000000\n",
       "dtype: float64"
      ]
     },
     "execution_count": 233,
     "metadata": {},
     "output_type": "execute_result"
    }
   ],
   "source": [
    "df['Ticker'].value_counts().describe() #"
   ]
  },
  {
   "cell_type": "code",
   "execution_count": 234,
   "metadata": {
    "collapsed": false
   },
   "outputs": [
    {
     "data": {
      "text/plain": [
       "397"
      ]
     },
     "execution_count": 234,
     "metadata": {},
     "output_type": "execute_result"
    }
   ],
   "source": [
    "sum(df['Ticker'].value_counts() < 50) #"
   ]
  },
  {
   "cell_type": "code",
   "execution_count": 235,
   "metadata": {
    "collapsed": false
   },
   "outputs": [
    {
     "data": {
      "text/plain": [
       "Index([u'VBF', u'FL', u'NTAP', u'FCH', u'MMC', u'EVF', u'LOAN', u'WOR', u'AP', u'INTU', u'CVS', u'PULB', u'FLIC', u'DCI', u'RE', u'A', u'RCS', u'RCII', u'RCI', u'RCG', u'DDF', u'RELV', u'REGN', u'REIS', u'DDS', u'REXI', u'RF', u'RFI', u'RFIL', u'DAKT', u'D', u'RGLD', u'CZNC', u'DDR', u'RBC', u'DE', u'DEL', u'DNP', u'DNI', u'DNB', u'DMF', u'DJCO', u'QQQ', u'DIS', u'DIN', u'QSII', u'DIA', u'DHY', u'DHR', u'DHF', u'DGX', u'QUMU', u'DGAS', u'RAI', u'RAS', u'DEST', u'RAVN', u'RBA', u'RIG', u'RBCAA', u'RHP', u'RJF', u'CYD', u'CSCO', u'RTN', u'CTBI', u'CTB', u'CSX', u'CSS', u'RVSB', u'RWC', u'RWT', u'CSI', u'CSGS', u'RY', u'RYL', u'CTL', u'RYN', u'CSC', u'CRY', u'SAH', u'SALM', u'CRVP', u'SAN', u'CRV', u'CRT', u'CRR', u'SBGI', u'CTG', u'RSG', u'CYBE', u'CVR', u'CY', u'QCOM', u'CXW', u'RL', u'CXH', u'CXE', u'RLI', u'CWCO', ...], dtype='object')"
      ]
     },
     "execution_count": 235,
     "metadata": {},
     "output_type": "execute_result"
    }
   ],
   "source": [
    "#Gonna drop tickers with less than 100 days of trading\n",
    "df['Ticker'].value_counts().index"
   ]
  },
  {
   "cell_type": "code",
   "execution_count": 236,
   "metadata": {
    "collapsed": true
   },
   "outputs": [],
   "source": [
    "under100 = df['Ticker'].value_counts() < 100"
   ]
  },
  {
   "cell_type": "code",
   "execution_count": 237,
   "metadata": {
    "collapsed": false
   },
   "outputs": [],
   "source": [
    "under100 = under100[under100==True]"
   ]
  },
  {
   "cell_type": "code",
   "execution_count": 238,
   "metadata": {
    "collapsed": false
   },
   "outputs": [],
   "source": [
    "low_pass = df['Ticker'].isin(under100.index)\n",
    "df = df[~low_pass]"
   ]
  },
  {
   "cell_type": "code",
   "execution_count": 239,
   "metadata": {
    "collapsed": false
   },
   "outputs": [
    {
     "data": {
      "text/plain": [
       "(18970632, 14)"
      ]
     },
     "execution_count": 239,
     "metadata": {},
     "output_type": "execute_result"
    }
   ],
   "source": [
    "df.shape"
   ]
  },
  {
   "cell_type": "code",
   "execution_count": 240,
   "metadata": {
    "collapsed": false
   },
   "outputs": [
    {
     "data": {
      "text/plain": [
       "18314"
      ]
     },
     "execution_count": 240,
     "metadata": {},
     "output_type": "execute_result"
    }
   ],
   "source": [
    "18988946 - df.shape[0] #Dropped tiny/new companies"
   ]
  },
  {
   "cell_type": "code",
   "execution_count": 241,
   "metadata": {
    "collapsed": false
   },
   "outputs": [
    {
     "data": {
      "text/html": [
       "<div style=\"max-height:1000px;max-width:1500px;overflow:auto;\">\n",
       "<table border=\"1\" class=\"dataframe\">\n",
       "  <thead>\n",
       "    <tr style=\"text-align: right;\">\n",
       "      <th></th>\n",
       "      <th>Ticker</th>\n",
       "      <th>Date</th>\n",
       "      <th>Open</th>\n",
       "      <th>High</th>\n",
       "      <th>Low</th>\n",
       "      <th>Close</th>\n",
       "      <th>Volume</th>\n",
       "      <th>Dividends</th>\n",
       "      <th>Splits</th>\n",
       "      <th>Adjusted Open</th>\n",
       "      <th>Adjusted High</th>\n",
       "      <th>Adjusted Low</th>\n",
       "      <th>Adjusted Close</th>\n",
       "      <th>Adjusted Volume</th>\n",
       "    </tr>\n",
       "  </thead>\n",
       "  <tbody>\n",
       "    <tr>\n",
       "      <th>24309204</th>\n",
       "      <td> ZX</td>\n",
       "      <td>2015-07-24</td>\n",
       "      <td> 0.8399</td>\n",
       "      <td> 0.8399</td>\n",
       "      <td> 0.78</td>\n",
       "      <td> 0.80</td>\n",
       "      <td> 55292</td>\n",
       "      <td> 0</td>\n",
       "      <td> 1</td>\n",
       "      <td> 0.8399</td>\n",
       "      <td> 0.8399</td>\n",
       "      <td> 0.78</td>\n",
       "      <td> 0.80</td>\n",
       "      <td> 55292</td>\n",
       "    </tr>\n",
       "    <tr>\n",
       "      <th>24309205</th>\n",
       "      <td> ZX</td>\n",
       "      <td>2015-07-27</td>\n",
       "      <td> 0.8200</td>\n",
       "      <td> 0.8600</td>\n",
       "      <td> 0.78</td>\n",
       "      <td> 0.78</td>\n",
       "      <td>  9501</td>\n",
       "      <td> 0</td>\n",
       "      <td> 1</td>\n",
       "      <td> 0.8200</td>\n",
       "      <td> 0.8600</td>\n",
       "      <td> 0.78</td>\n",
       "      <td> 0.78</td>\n",
       "      <td>  9501</td>\n",
       "    </tr>\n",
       "    <tr>\n",
       "      <th>24309206</th>\n",
       "      <td> ZX</td>\n",
       "      <td>2015-07-28</td>\n",
       "      <td> 0.7980</td>\n",
       "      <td> 0.8900</td>\n",
       "      <td> 0.79</td>\n",
       "      <td> 0.89</td>\n",
       "      <td>  7548</td>\n",
       "      <td> 0</td>\n",
       "      <td> 1</td>\n",
       "      <td> 0.7980</td>\n",
       "      <td> 0.8900</td>\n",
       "      <td> 0.79</td>\n",
       "      <td> 0.89</td>\n",
       "      <td>  7548</td>\n",
       "    </tr>\n",
       "    <tr>\n",
       "      <th>24309207</th>\n",
       "      <td> ZX</td>\n",
       "      <td>2015-07-29</td>\n",
       "      <td> 0.8300</td>\n",
       "      <td> 0.8500</td>\n",
       "      <td> 0.83</td>\n",
       "      <td> 0.85</td>\n",
       "      <td>  3231</td>\n",
       "      <td> 0</td>\n",
       "      <td> 1</td>\n",
       "      <td> 0.8300</td>\n",
       "      <td> 0.8500</td>\n",
       "      <td> 0.83</td>\n",
       "      <td> 0.85</td>\n",
       "      <td>  3231</td>\n",
       "    </tr>\n",
       "    <tr>\n",
       "      <th>24309208</th>\n",
       "      <td> ZX</td>\n",
       "      <td>2015-07-30</td>\n",
       "      <td> 0.7845</td>\n",
       "      <td> 0.8700</td>\n",
       "      <td> 0.77</td>\n",
       "      <td> 0.78</td>\n",
       "      <td> 30414</td>\n",
       "      <td> 0</td>\n",
       "      <td> 1</td>\n",
       "      <td> 0.7845</td>\n",
       "      <td> 0.8700</td>\n",
       "      <td> 0.77</td>\n",
       "      <td> 0.78</td>\n",
       "      <td> 30414</td>\n",
       "    </tr>\n",
       "  </tbody>\n",
       "</table>\n",
       "</div>"
      ],
      "text/plain": [
       "         Ticker       Date    Open    High   Low  Close  Volume  Dividends  \\\n",
       "24309204     ZX 2015-07-24  0.8399  0.8399  0.78   0.80   55292          0   \n",
       "24309205     ZX 2015-07-27  0.8200  0.8600  0.78   0.78    9501          0   \n",
       "24309206     ZX 2015-07-28  0.7980  0.8900  0.79   0.89    7548          0   \n",
       "24309207     ZX 2015-07-29  0.8300  0.8500  0.83   0.85    3231          0   \n",
       "24309208     ZX 2015-07-30  0.7845  0.8700  0.77   0.78   30414          0   \n",
       "\n",
       "          Splits  Adjusted Open  Adjusted High  Adjusted Low  Adjusted Close  \\\n",
       "24309204       1         0.8399         0.8399          0.78            0.80   \n",
       "24309205       1         0.8200         0.8600          0.78            0.78   \n",
       "24309206       1         0.7980         0.8900          0.79            0.89   \n",
       "24309207       1         0.8300         0.8500          0.83            0.85   \n",
       "24309208       1         0.7845         0.8700          0.77            0.78   \n",
       "\n",
       "          Adjusted Volume  \n",
       "24309204            55292  \n",
       "24309205             9501  \n",
       "24309206             7548  \n",
       "24309207             3231  \n",
       "24309208            30414  "
      ]
     },
     "execution_count": 241,
     "metadata": {},
     "output_type": "execute_result"
    }
   ],
   "source": [
    "df.tail()"
   ]
  },
  {
   "cell_type": "code",
   "execution_count": 242,
   "metadata": {
    "collapsed": false
   },
   "outputs": [
    {
     "data": {
      "text/html": [
       "<div style=\"max-height:1000px;max-width:1500px;overflow:auto;\">\n",
       "<table border=\"1\" class=\"dataframe\">\n",
       "  <thead>\n",
       "    <tr style=\"text-align: right;\">\n",
       "      <th></th>\n",
       "      <th>Ticker</th>\n",
       "      <th>Date</th>\n",
       "      <th>Open</th>\n",
       "      <th>High</th>\n",
       "      <th>Low</th>\n",
       "      <th>Close</th>\n",
       "      <th>Volume</th>\n",
       "      <th>Dividends</th>\n",
       "      <th>Splits</th>\n",
       "      <th>Adjusted Open</th>\n",
       "      <th>Adjusted High</th>\n",
       "      <th>Adjusted Low</th>\n",
       "      <th>Adjusted Close</th>\n",
       "      <th>Adjusted Volume</th>\n",
       "    </tr>\n",
       "  </thead>\n",
       "  <tbody>\n",
       "    <tr>\n",
       "      <th>30</th>\n",
       "      <td> A</td>\n",
       "      <td>2000-01-03</td>\n",
       "      <td> 78.75</td>\n",
       "      <td> 78.94</td>\n",
       "      <td> 67.38</td>\n",
       "      <td> 72.00</td>\n",
       "      <td> 3343600</td>\n",
       "      <td> 0</td>\n",
       "      <td> 1</td>\n",
       "      <td> 51.805952</td>\n",
       "      <td> 51.930944</td>\n",
       "      <td> 44.326160</td>\n",
       "      <td> 47.365442</td>\n",
       "      <td> 3343600</td>\n",
       "    </tr>\n",
       "    <tr>\n",
       "      <th>31</th>\n",
       "      <td> A</td>\n",
       "      <td>2000-01-04</td>\n",
       "      <td> 68.13</td>\n",
       "      <td> 68.88</td>\n",
       "      <td> 64.75</td>\n",
       "      <td> 66.50</td>\n",
       "      <td> 3408500</td>\n",
       "      <td> 0</td>\n",
       "      <td> 1</td>\n",
       "      <td> 44.814547</td>\n",
       "      <td> 45.307882</td>\n",
       "      <td> 42.591251</td>\n",
       "      <td> 43.742366</td>\n",
       "      <td> 3408500</td>\n",
       "    </tr>\n",
       "    <tr>\n",
       "      <th>32</th>\n",
       "      <td> A</td>\n",
       "      <td>2000-01-05</td>\n",
       "      <td> 66.25</td>\n",
       "      <td> 66.31</td>\n",
       "      <td> 61.31</td>\n",
       "      <td> 61.56</td>\n",
       "      <td> 4119200</td>\n",
       "      <td> 0</td>\n",
       "      <td> 1</td>\n",
       "      <td> 43.575932</td>\n",
       "      <td> 43.615397</td>\n",
       "      <td> 40.326647</td>\n",
       "      <td> 40.491085</td>\n",
       "      <td> 4119200</td>\n",
       "    </tr>\n",
       "    <tr>\n",
       "      <th>33</th>\n",
       "      <td> A</td>\n",
       "      <td>2000-01-06</td>\n",
       "      <td> 61.63</td>\n",
       "      <td> 62.00</td>\n",
       "      <td> 58.13</td>\n",
       "      <td> 60.00</td>\n",
       "      <td> 1812900</td>\n",
       "      <td> 0</td>\n",
       "      <td> 1</td>\n",
       "      <td> 40.538590</td>\n",
       "      <td> 40.781966</td>\n",
       "      <td> 38.236382</td>\n",
       "      <td> 39.466419</td>\n",
       "      <td> 1812900</td>\n",
       "    </tr>\n",
       "    <tr>\n",
       "      <th>34</th>\n",
       "      <td> A</td>\n",
       "      <td>2000-01-07</td>\n",
       "      <td> 59.06</td>\n",
       "      <td> 65.94</td>\n",
       "      <td> 59.00</td>\n",
       "      <td> 65.00</td>\n",
       "      <td> 2016900</td>\n",
       "      <td> 0</td>\n",
       "      <td> 1</td>\n",
       "      <td> 38.851914</td>\n",
       "      <td> 43.377840</td>\n",
       "      <td> 38.812444</td>\n",
       "      <td> 42.759472</td>\n",
       "      <td> 2016900</td>\n",
       "    </tr>\n",
       "  </tbody>\n",
       "</table>\n",
       "</div>"
      ],
      "text/plain": [
       "   Ticker       Date   Open   High    Low  Close   Volume  Dividends  Splits  \\\n",
       "30      A 2000-01-03  78.75  78.94  67.38  72.00  3343600          0       1   \n",
       "31      A 2000-01-04  68.13  68.88  64.75  66.50  3408500          0       1   \n",
       "32      A 2000-01-05  66.25  66.31  61.31  61.56  4119200          0       1   \n",
       "33      A 2000-01-06  61.63  62.00  58.13  60.00  1812900          0       1   \n",
       "34      A 2000-01-07  59.06  65.94  59.00  65.00  2016900          0       1   \n",
       "\n",
       "    Adjusted Open  Adjusted High  Adjusted Low  Adjusted Close  \\\n",
       "30      51.805952      51.930944     44.326160       47.365442   \n",
       "31      44.814547      45.307882     42.591251       43.742366   \n",
       "32      43.575932      43.615397     40.326647       40.491085   \n",
       "33      40.538590      40.781966     38.236382       39.466419   \n",
       "34      38.851914      43.377840     38.812444       42.759472   \n",
       "\n",
       "    Adjusted Volume  \n",
       "30          3343600  \n",
       "31          3408500  \n",
       "32          4119200  \n",
       "33          1812900  \n",
       "34          2016900  "
      ]
     },
     "execution_count": 242,
     "metadata": {},
     "output_type": "execute_result"
    }
   ],
   "source": [
    "df.head()"
   ]
  },
  {
   "cell_type": "markdown",
   "metadata": {},
   "source": [
    "## Now dropping to:\n",
    "* Open price average above 10\n",
    "* Average volume above 15K"
   ]
  },
  {
   "cell_type": "code",
   "execution_count": 243,
   "metadata": {
    "collapsed": true
   },
   "outputs": [],
   "source": [
    "grouped = df.groupby('Ticker')"
   ]
  },
  {
   "cell_type": "code",
   "execution_count": 244,
   "metadata": {
    "collapsed": false
   },
   "outputs": [],
   "source": [
    "means = grouped.agg(np.mean)"
   ]
  },
  {
   "cell_type": "code",
   "execution_count": 245,
   "metadata": {
    "collapsed": false
   },
   "outputs": [],
   "source": [
    "cleaned_means = means[~(np.isnan(means['Open']))] #Drop companies that don't have usable data"
   ]
  },
  {
   "cell_type": "code",
   "execution_count": 246,
   "metadata": {
    "collapsed": false
   },
   "outputs": [],
   "source": [
    "within_range = (cleaned_means['Open'] > 10) & (cleaned_means['Volume'] > 15000)"
   ]
  },
  {
   "cell_type": "code",
   "execution_count": 247,
   "metadata": {
    "collapsed": false
   },
   "outputs": [],
   "source": [
    "filtered_df = cleaned_means[within_range]"
   ]
  },
  {
   "cell_type": "code",
   "execution_count": 248,
   "metadata": {
    "collapsed": false
   },
   "outputs": [
    {
     "data": {
      "text/plain": [
       "(5150, 12)"
      ]
     },
     "execution_count": 248,
     "metadata": {},
     "output_type": "execute_result"
    }
   ],
   "source": [
    "filtered_df.shape #Looks like there are 5150 companies that make the cut"
   ]
  },
  {
   "cell_type": "code",
   "execution_count": 249,
   "metadata": {
    "collapsed": false
   },
   "outputs": [],
   "source": [
    "df = df[df['Ticker'].isin(filtered_df.index)]"
   ]
  },
  {
   "cell_type": "code",
   "execution_count": 250,
   "metadata": {
    "collapsed": false
   },
   "outputs": [
    {
     "name": "stdout",
     "output_type": "stream",
     "text": [
      "<class 'pandas.core.frame.DataFrame'>\n",
      "Int64Index: 12343384 entries, 30 to 24308148\n",
      "Data columns (total 14 columns):\n",
      "Ticker             category\n",
      "Date               datetime64[ns]\n",
      "Open               float64\n",
      "High               float64\n",
      "Low                float64\n",
      "Close              float64\n",
      "Volume             float64\n",
      "Dividends          float64\n",
      "Splits             float64\n",
      "Adjusted Open      float64\n",
      "Adjusted High      float64\n",
      "Adjusted Low       float64\n",
      "Adjusted Close     float64\n",
      "Adjusted Volume    float64\n",
      "dtypes: category(1), datetime64[ns](1), float64(12)\n",
      "memory usage: 1.3 GB\n"
     ]
    }
   ],
   "source": [
    "df.info()"
   ]
  },
  {
   "cell_type": "code",
   "execution_count": 251,
   "metadata": {
    "collapsed": false
   },
   "outputs": [
    {
     "data": {
      "text/plain": [
       "(12343384, 14)"
      ]
     },
     "execution_count": 251,
     "metadata": {},
     "output_type": "execute_result"
    }
   ],
   "source": [
    "df.shape"
   ]
  },
  {
   "cell_type": "code",
   "execution_count": 252,
   "metadata": {
    "collapsed": true
   },
   "outputs": [],
   "source": [
    "#Writing to another file so I can work without loading the whole damn thing into memory\n",
    "df.to_csv('data/EOD_filtered.csv')"
   ]
  },
  {
   "cell_type": "code",
   "execution_count": 253,
   "metadata": {
    "collapsed": false
   },
   "outputs": [
    {
     "name": "stdout",
     "output_type": "stream",
     "text": [
      "\u001b[31mEOD.csv\u001b[m\u001b[m             EOD_filtered        EOD_filtered.csv    \u001b[31mcolumns_headers.txt\u001b[m\u001b[m\r\n"
     ]
    }
   ],
   "source": [
    "!ls data"
   ]
  }
 ],
 "metadata": {
  "kernelspec": {
   "display_name": "Python 2",
   "language": "python",
   "name": "python2"
  },
  "language_info": {
   "codemirror_mode": {
    "name": "ipython",
    "version": 2
   },
   "file_extension": ".py",
   "mimetype": "text/x-python",
   "name": "python",
   "nbconvert_exporter": "python",
   "pygments_lexer": "ipython2",
   "version": "2.7.10"
  }
 },
 "nbformat": 4,
 "nbformat_minor": 0
}
